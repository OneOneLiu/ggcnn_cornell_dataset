{
 "cells": [
  {
   "cell_type": "markdown",
   "id": "8e6794e4",
   "metadata": {},
   "source": [
    "# 添加缩小图片的程序\n",
    "## 首先是深度图缩小"
   ]
  },
  {
   "cell_type": "code",
   "execution_count": 1,
   "id": "785c475f",
   "metadata": {},
   "outputs": [],
   "source": [
    "# 导入相关包\n",
    "from utils.dataset_processing.image import *\n",
    "from utils.dataset_processing.grasp import *\n",
    "from utils.data.jacquard_data_t import JacquardDataset\n",
    "\n",
    "import matplotlib.pyplot as plt"
   ]
  },
  {
   "cell_type": "code",
   "execution_count": 2,
   "id": "3f6caabe",
   "metadata": {},
   "outputs": [],
   "source": [
    "import cv2\n",
    "import numpy as np\n",
    "import matplotlib.pyplot as plt\n",
    "from imageio import imread\n",
    "from skimage.transform import rotate, resize, rescale\n",
    "\n",
    "import warnings\n",
    "warnings.filterwarnings(\"ignore\", category=UserWarning)\n",
    "\n",
    "\n",
    "class Image:\n",
    "    \"\"\"\n",
    "    Wrapper around an image with some convenient functions.\n",
    "    \"\"\"\n",
    "    def __init__(self, img):\n",
    "        self.img = img\n",
    "\n",
    "    def __getattr__(self, attr):\n",
    "        # Pass along any other methods to the underlying ndarray\n",
    "        return getattr(self.img, attr)\n",
    "\n",
    "    @classmethod\n",
    "    def from_file(cls, fname):\n",
    "        return cls(imread(fname))\n",
    "\n",
    "    def copy(self):\n",
    "        \"\"\"\n",
    "        :return: Copy of self.\n",
    "        \"\"\"\n",
    "        return self.__class__(self.img.copy())\n",
    "\n",
    "    def crop(self, top_left, bottom_right, resize=None):\n",
    "        \"\"\"\n",
    "        Crop the image to a bounding box given by top left and bottom right pixels.\n",
    "        :param top_left: tuple, top left pixel.\n",
    "        :param bottom_right: tuple, bottom right pixel\n",
    "        :param resize: If specified, resize the cropped image to this size\n",
    "        \"\"\"\n",
    "        self.img = self.img[top_left[0]:bottom_right[0], top_left[1]:bottom_right[1]]\n",
    "        if resize is not None:\n",
    "            self.resize(resize)\n",
    "\n",
    "    def cropped(self, *args, **kwargs):\n",
    "        \"\"\"\n",
    "        :return: Cropped copy of the image.\n",
    "        \"\"\"\n",
    "        i = self.copy()\n",
    "        i.crop(*args, **kwargs)\n",
    "        return i\n",
    "\n",
    "    def normalise(self):\n",
    "        \"\"\"\n",
    "        Normalise the image by converting to float [0,1] and zero-centering\n",
    "        \"\"\"\n",
    "        self.img = self.img.astype(np.float32)/255.0\n",
    "        self.img -= self.img.mean()\n",
    "\n",
    "    def resize(self, shape):\n",
    "        \"\"\"\n",
    "        Resize image to shape.\n",
    "        :param shape: New shape.\n",
    "        \"\"\"\n",
    "        if self.img.shape == shape:\n",
    "            return\n",
    "        self.img = resize(self.img, shape, preserve_range=True).astype(self.img.dtype)\n",
    "\n",
    "    def resized(self, *args, **kwargs):\n",
    "        \"\"\"\n",
    "        :return: Resized copy of the image.\n",
    "        \"\"\"\n",
    "        i = self.copy()\n",
    "        i.resize(*args, **kwargs)\n",
    "        return i\n",
    "\n",
    "    def rotate(self, angle, center=None):\n",
    "        \"\"\"\n",
    "        Rotate the image.\n",
    "        :param angle: Angle (in radians) to rotate by.\n",
    "        :param center: Center pixel to rotate if specified, otherwise image center is used.\n",
    "        \"\"\"\n",
    "        if center is not None:\n",
    "            center = (center[1], center[0])\n",
    "        self.img = rotate(self.img, angle/np.pi*180, center=center, mode='symmetric', preserve_range=True).astype(self.img.dtype)\n",
    "\n",
    "    def rotated(self, *args, **kwargs):\n",
    "        \"\"\"\n",
    "        :return: Rotated copy of image.\n",
    "        \"\"\"\n",
    "        i = self.copy()\n",
    "        i.rotate(*args, **kwargs)\n",
    "        return i\n",
    "\n",
    "    def show(self, ax=None, **kwargs):\n",
    "        \"\"\"\n",
    "        Plot the image\n",
    "        :param ax: Existing matplotlib axis (optional)\n",
    "        :param kwargs: kwargs to imshow\n",
    "        \"\"\"\n",
    "        if ax:\n",
    "            ax.imshow(self.img, **kwargs)\n",
    "        else:\n",
    "            plt.imshow(self.img, **kwargs)\n",
    "            plt.show()\n",
    "\n",
    "    def zoom(self, factor):\n",
    "        \"\"\"\n",
    "        \"Zoom\" the image by cropping and resizing.\n",
    "        :param factor: Factor to zoom by. e.g. 0.5 will keep the center 50% of the image.\n",
    "        \"\"\"\n",
    "        sr = int(self.img.shape[0] * (1 - factor)) // 2\n",
    "        sc = int(self.img.shape[1] * (1 - factor)) // 2\n",
    "        orig_shape = self.img.shape\n",
    "        self.img = self.img[sr:self.img.shape[0] - sr, sc: self.img.shape[1] - sc].copy()\n",
    "        self.img = resize(self.img, orig_shape, mode='symmetric', preserve_range=True).astype(self.img.dtype)\n",
    "\n",
    "    def zoomed(self, *args, **kwargs):\n",
    "        \"\"\"\n",
    "        :return: Zoomed copy of the image.\n",
    "        \"\"\"\n",
    "        i = self.copy()\n",
    "        i.zoom(*args, **kwargs)\n",
    "        return i\n",
    "\n",
    "\n",
    "class DepthImage(Image):\n",
    "    def __init__(self, img):\n",
    "        super().__init__(img)\n",
    "\n",
    "    @classmethod\n",
    "    def from_pcd(cls, pcd_filename, shape, default_filler=0, index=None):\n",
    "        \"\"\"\n",
    "            Create a depth image from an unstructured PCD file.\n",
    "            If index isn't specified, use euclidean distance, otherwise choose x/y/z=0/1/2\n",
    "        \"\"\"\n",
    "        img = np.zeros(shape)\n",
    "        if default_filler != 0:\n",
    "            img += default_filler\n",
    "\n",
    "        with open(pcd_filename) as f:\n",
    "            for l in f.readlines():\n",
    "                ls = l.split()\n",
    "\n",
    "                if len(ls) != 5:\n",
    "                    # Not a point line in the file.\n",
    "                    continue\n",
    "                try:\n",
    "                    # Not a number, carry on.\n",
    "                    float(ls[0])\n",
    "                except ValueError:\n",
    "                    continue\n",
    "\n",
    "                i = int(ls[4])\n",
    "                r = i // shape[1]\n",
    "                c = i % shape[1]\n",
    "\n",
    "                if index is None:\n",
    "                    x = float(ls[0])\n",
    "                    y = float(ls[1])\n",
    "                    z = float(ls[2])\n",
    "\n",
    "                    img[r, c] = np.sqrt(x ** 2 + y ** 2 + z ** 2)\n",
    "\n",
    "                else:\n",
    "                    img[r, c] = float(ls[index])\n",
    "\n",
    "        return cls(img/1000.0)\n",
    "\n",
    "    @classmethod\n",
    "    def from_tiff(cls, fname):\n",
    "        return cls(imread(fname))\n",
    "\n",
    "    def inpaint(self, missing_value=0):\n",
    "        \"\"\"\n",
    "        Inpaint missing values in depth image.\n",
    "        :param missing_value: Value to fill in teh depth image.\n",
    "        \"\"\"\n",
    "        # cv2 inpainting doesn't handle the border properly\n",
    "        # https://stackoverflow.com/questions/25974033/inpainting-depth-map-still-a-black-image-border\n",
    "        self.img = cv2.copyMakeBorder(self.img, 1, 1, 1, 1, cv2.BORDER_DEFAULT)\n",
    "        mask = (self.img == missing_value).astype(np.uint8)\n",
    "\n",
    "        # Scale to keep as float, but has to be in bounds -1:1 to keep opencv happy.\n",
    "        scale = np.abs(self.img).max()\n",
    "        self.img = self.img.astype(np.float32) / scale  # Has to be float32, 64 not supported.\n",
    "        self.img = cv2.inpaint(self.img, mask, 1, cv2.INPAINT_NS)\n",
    "\n",
    "        # Back to original size and value range.\n",
    "        self.img = self.img[1:-1, 1:-1]\n",
    "        self.img = self.img * scale\n",
    "\n",
    "    def gradients(self):\n",
    "        \"\"\"\n",
    "        Compute gradients of the depth image using Sobel filtesr.\n",
    "        :return: Gradients in X direction, Gradients in Y diretion, Magnitude of XY gradients.\n",
    "        \"\"\"\n",
    "        grad_x = cv2.Sobel(self.img, cv2.CV_64F, 1, 0, borderType=cv2.BORDER_DEFAULT)\n",
    "        grad_y = cv2.Sobel(self.img, cv2.CV_64F, 0, 1, borderType=cv2.BORDER_DEFAULT)\n",
    "        grad = np.sqrt(grad_x ** 2 + grad_y ** 2)\n",
    "\n",
    "        return DepthImage(grad_x), DepthImage(grad_y), DepthImage(grad)\n",
    "\n",
    "    def normalise(self):\n",
    "        \"\"\"\n",
    "        Normalise by subtracting the mean and clippint [-1, 1]\n",
    "        \"\"\"\n",
    "        self.img = np.clip((self.img - self.img.mean()), -1, 1)\n",
    "\n",
    "\n",
    "class WidthImage(Image):\n",
    "    \"\"\"\n",
    "    A width image is one that describes the desired gripper width at each pixel.\n",
    "    \"\"\"\n",
    "    def zoom(self, factor):\n",
    "        \"\"\"\n",
    "        \"Zoom\" the image by cropping and resizing.  Also scales the width accordingly.\n",
    "        :param factor: Factor to zoom by. e.g. 0.5 will keep the center 50% of the image.\n",
    "        \"\"\"\n",
    "        super().zoom(factor)\n",
    "        self.img = self.img/factor\n",
    "\n",
    "    def normalise(self):\n",
    "        \"\"\"\n",
    "        Normalise by mapping [0, 150] -> [0, 1]\n",
    "        \"\"\"\n",
    "        self.img = np.clip(self.img, 0, 150.0)/150.0"
   ]
  },
  {
   "cell_type": "code",
   "execution_count": 3,
   "id": "c149834e",
   "metadata": {},
   "outputs": [],
   "source": [
    "def pad_width(vector, pad_width, iaxis, kwargs):\n",
    "    pad_value = kwargs.get('padder', 0)\n",
    "    vector[:pad_width[0]] = pad_value\n",
    "    vector[-pad_width[1]:] = pad_value\n",
    "def get_gradation_2d(start, stop, width, height, is_horizontal):\n",
    "    if is_horizontal:\n",
    "        return np.tile(np.linspace(start, stop, width), (height, 1))\n",
    "    else:\n",
    "        return np.tile(np.linspace(start, stop, height), (width, 1)).T"
   ]
  },
  {
   "cell_type": "code",
   "execution_count": 4,
   "id": "4ecee8be",
   "metadata": {},
   "outputs": [],
   "source": [
    "train_dataset = JacquardDataset('../jacquard', start=0.0, end=0.9, ds_rotate=0.0,\n",
    "                            random_rotate=True, random_zoom=True,ADJ = 0,npy_path = 0,\n",
    "                            include_depth=1, include_rgb=0)"
   ]
  },
  {
   "cell_type": "code",
   "execution_count": 5,
   "id": "222f05ed",
   "metadata": {},
   "outputs": [
    {
     "data": {
      "image/png": "[encoded data removed]",
      "text/plain": [
       "<Figure size 432x288 with 3 Axes>"
      ]
     },
     "metadata": {
      "needs_background": "light"
     },
     "output_type": "display_data"
    }
   ],
   "source": [
    "%matplotlib inline\n",
    "# 先试一下直接用减法获取背景行不行\n",
    "depth = train_dataset.get_depth(900)\n",
    "plt.subplot(131)\n",
    "plt.imshow(depth)\n",
    "mask = train_dataset.get_mask(900) // 252.0\n",
    "plt.subplot(132)\n",
    "plt.imshow(mask * depth)\n",
    "plt.subplot(133)\n",
    "plt.imshow(depth-mask * depth)\n",
    "plt.show()"
   ]
  },
  {
   "cell_type": "code",
   "execution_count": 6,
   "id": "010d50d9",
   "metadata": {},
   "outputs": [
    {
     "name": "stdout",
     "output_type": "stream",
     "text": [
      "纵向渐变\n"
     ]
    },
    {
     "data": {
      "image/png": "[encoded data removed]",
      "text/plain": [
       "<Figure size 432x288 with 1 Axes>"
      ]
     },
     "metadata": {
      "needs_background": "light"
     },
     "output_type": "display_data"
    }
   ],
   "source": [
    "# 效果不太好,还是抠出来在生成背景吧\n",
    "# 检查是横向渐变还是纵向渐变\n",
    "if abs(sum(depth[0] - depth [-1])) < 1:\n",
    "    print('横向渐变')\n",
    "    is_horizontal = True\n",
    "else:\n",
    "    print('纵向渐变')\n",
    "    is_horizontal = False\n",
    "backgroud = get_gradation_2d(depth[0][0],depth[-1][-1],300,300,is_horizontal=is_horizontal)\n",
    "plt.imshow(backgroud)\n",
    "plt.show()"
   ]
  },
  {
   "cell_type": "code",
   "execution_count": 7,
   "id": "c8c850a4",
   "metadata": {},
   "outputs": [
    {
     "data": {
      "image/png": "[encoded data removed]",
      "text/plain": [
       "<Figure size 432x288 with 2 Axes>"
      ]
     },
     "metadata": {
      "needs_background": "light"
     },
     "output_type": "display_data"
    },
    {
     "name": "stdout",
     "output_type": "stream",
     "text": [
      "202.5\n"
     ]
    }
   ],
   "source": [
    "%matplotlib inline\n",
    "depth = train_dataset.get_depth(900)\n",
    "plt.subplot(121)\n",
    "plt.imshow(depth)\n",
    "maskdepth = train_dataset.get_mask(900) / 255.0\n",
    "\n",
    "scale = 0.675\n",
    "\n",
    "small = rescale(maskdepth * depth,[scale,scale])\n",
    "plt.subplot(122)\n",
    "plt.imshow(small)\n",
    "plt.show()\n",
    "print(300*0.675)"
   ]
  },
  {
   "cell_type": "code",
   "execution_count": 8,
   "id": "e1f1b35e",
   "metadata": {},
   "outputs": [
    {
     "name": "stdout",
     "output_type": "stream",
     "text": [
      "(298, 298)\n",
      "(300, 300)\n"
     ]
    },
    {
     "data": {
      "image/png": "[encoded data removed]",
      "text/plain": [
       "<Figure size 432x288 with 3 Axes>"
      ]
     },
     "metadata": {
      "needs_background": "light"
     },
     "output_type": "display_data"
    }
   ],
   "source": [
    "paded = np.pad(small,int((300*(1-scale))/2),pad_width)\n",
    "print(paded.shape)\n",
    "paded_img = Image(paded)\n",
    "paded_img.resize((300,300))\n",
    "print(paded_img.shape)\n",
    "plt.subplot(131)\n",
    "plt.imshow(paded_img.img)\n",
    "plt.subplot(132)\n",
    "plt.imshow(paded_img.img + backgroud)\n",
    "plt.subplot(133)\n",
    "plt.imshow(depth)\n",
    "plt.show()"
   ]
  },
  {
   "cell_type": "code",
   "execution_count": 9,
   "id": "71d353fe",
   "metadata": {},
   "outputs": [
    {
     "ename": "KeyboardInterrupt",
     "evalue": "",
     "output_type": "error",
     "traceback": [
      "\u001b[0;31m---------------------------------------------------------------------------\u001b[0m",
      "\u001b[0;31mKeyboardInterrupt\u001b[0m                         Traceback (most recent call last)",
      "\u001b[0;32m<ipython-input-9-1fd985062e8d>\u001b[0m in \u001b[0;36m<module>\u001b[0;34m\u001b[0m\n\u001b[1;32m      4\u001b[0m \u001b[0;32mfor\u001b[0m \u001b[0midx\u001b[0m \u001b[0;32min\u001b[0m \u001b[0mrange\u001b[0m\u001b[0;34m(\u001b[0m\u001b[0;36m40000\u001b[0m\u001b[0;34m)\u001b[0m\u001b[0;34m:\u001b[0m\u001b[0;34m\u001b[0m\u001b[0;34m\u001b[0m\u001b[0m\n\u001b[1;32m      5\u001b[0m     \u001b[0midx\u001b[0m \u001b[0;34m=\u001b[0m \u001b[0;36m1\u001b[0m\u001b[0;34m\u001b[0m\u001b[0;34m\u001b[0m\u001b[0m\n\u001b[0;32m----> 6\u001b[0;31m     \u001b[0mdepth\u001b[0m \u001b[0;34m=\u001b[0m \u001b[0mtrain_dataset\u001b[0m\u001b[0;34m.\u001b[0m\u001b[0mget_mask_prob\u001b[0m\u001b[0;34m(\u001b[0m\u001b[0midx\u001b[0m\u001b[0;34m)\u001b[0m\u001b[0;34m\u001b[0m\u001b[0;34m\u001b[0m\u001b[0m\n\u001b[0m\u001b[1;32m      7\u001b[0m     \u001b[0mmask\u001b[0m \u001b[0;34m=\u001b[0m \u001b[0;34m(\u001b[0m\u001b[0mtrain_dataset\u001b[0m\u001b[0;34m.\u001b[0m\u001b[0mget_mask\u001b[0m\u001b[0;34m(\u001b[0m\u001b[0midx\u001b[0m\u001b[0;34m)\u001b[0m \u001b[0;34m//\u001b[0m \u001b[0;36m50.0\u001b[0m\u001b[0;34m)\u001b[0m\u001b[0;34m.\u001b[0m\u001b[0mastype\u001b[0m\u001b[0;34m(\u001b[0m\u001b[0mnp\u001b[0m\u001b[0;34m.\u001b[0m\u001b[0mbool\u001b[0m\u001b[0;34m)\u001b[0m\u001b[0;34m\u001b[0m\u001b[0;34m\u001b[0m\u001b[0m\n\u001b[1;32m      8\u001b[0m     \u001b[0mscale\u001b[0m \u001b[0;34m=\u001b[0m \u001b[0;36m0.5\u001b[0m\u001b[0;34m\u001b[0m\u001b[0;34m\u001b[0m\u001b[0m\n",
      "\u001b[0;32m~/github_repositorys/ggcnn_cornell_dataset/ggcnn-master/utils/data/jacquard_data_t.py\u001b[0m in \u001b[0;36mget_mask_prob\u001b[0;34m(self, idx, rot, zoom)\u001b[0m\n\u001b[1;32m    212\u001b[0m         \u001b[0;31m# mask_prob_img 除以其最大值,来将值缩放到[0,1]范围内\u001b[0m\u001b[0;34m\u001b[0m\u001b[0;34m\u001b[0m\u001b[0;34m\u001b[0m\u001b[0m\n\u001b[1;32m    213\u001b[0m         \u001b[0mimg_max\u001b[0m \u001b[0;34m=\u001b[0m \u001b[0mmask_prob_img\u001b[0m\u001b[0;34m.\u001b[0m\u001b[0mimg\u001b[0m\u001b[0;34m.\u001b[0m\u001b[0mmax\u001b[0m\u001b[0;34m(\u001b[0m\u001b[0;34m)\u001b[0m\u001b[0;34m\u001b[0m\u001b[0;34m\u001b[0m\u001b[0m\n\u001b[0;32m--> 214\u001b[0;31m         \u001b[0mmask_prob_img\u001b[0m\u001b[0;34m.\u001b[0m\u001b[0mrotate\u001b[0m\u001b[0;34m(\u001b[0m\u001b[0mrot\u001b[0m\u001b[0;34m)\u001b[0m\u001b[0;34m\u001b[0m\u001b[0;34m\u001b[0m\u001b[0m\n\u001b[0m\u001b[1;32m    215\u001b[0m         \u001b[0mmask_prob_img\u001b[0m\u001b[0;34m.\u001b[0m\u001b[0mzoom\u001b[0m\u001b[0;34m(\u001b[0m\u001b[0mzoom\u001b[0m\u001b[0;34m)\u001b[0m\u001b[0;34m\u001b[0m\u001b[0;34m\u001b[0m\u001b[0m\n\u001b[1;32m    216\u001b[0m         \u001b[0mmask_prob_img\u001b[0m\u001b[0;34m.\u001b[0m\u001b[0mresize\u001b[0m\u001b[0;34m(\u001b[0m\u001b[0;34m(\u001b[0m\u001b[0mself\u001b[0m\u001b[0;34m.\u001b[0m\u001b[0moutput_size\u001b[0m\u001b[0;34m,\u001b[0m\u001b[0mself\u001b[0m\u001b[0;34m.\u001b[0m\u001b[0moutput_size\u001b[0m\u001b[0;34m)\u001b[0m\u001b[0;34m)\u001b[0m\u001b[0;34m\u001b[0m\u001b[0;34m\u001b[0m\u001b[0m\n",
      "\u001b[0;32m~/github_repositorys/ggcnn_cornell_dataset/ggcnn-master/utils/dataset_processing/image.py\u001b[0m in \u001b[0;36mrotate\u001b[0;34m(self, angle, center)\u001b[0m\n\u001b[1;32m     81\u001b[0m         \u001b[0;32mif\u001b[0m \u001b[0mcenter\u001b[0m \u001b[0;32mis\u001b[0m \u001b[0;32mnot\u001b[0m \u001b[0;32mNone\u001b[0m\u001b[0;34m:\u001b[0m\u001b[0;34m\u001b[0m\u001b[0;34m\u001b[0m\u001b[0m\n\u001b[1;32m     82\u001b[0m             \u001b[0mcenter\u001b[0m \u001b[0;34m=\u001b[0m \u001b[0;34m(\u001b[0m\u001b[0mcenter\u001b[0m\u001b[0;34m[\u001b[0m\u001b[0;36m1\u001b[0m\u001b[0;34m]\u001b[0m\u001b[0;34m,\u001b[0m \u001b[0mcenter\u001b[0m\u001b[0;34m[\u001b[0m\u001b[0;36m0\u001b[0m\u001b[0;34m]\u001b[0m\u001b[0;34m)\u001b[0m\u001b[0;34m\u001b[0m\u001b[0;34m\u001b[0m\u001b[0m\n\u001b[0;32m---> 83\u001b[0;31m         \u001b[0mself\u001b[0m\u001b[0;34m.\u001b[0m\u001b[0mimg\u001b[0m \u001b[0;34m=\u001b[0m \u001b[0mrotate\u001b[0m\u001b[0;34m(\u001b[0m\u001b[0mself\u001b[0m\u001b[0;34m.\u001b[0m\u001b[0mimg\u001b[0m\u001b[0;34m,\u001b[0m \u001b[0mangle\u001b[0m\u001b[0;34m/\u001b[0m\u001b[0mnp\u001b[0m\u001b[0;34m.\u001b[0m\u001b[0mpi\u001b[0m\u001b[0;34m*\u001b[0m\u001b[0;36m180\u001b[0m\u001b[0;34m,\u001b[0m \u001b[0mcenter\u001b[0m\u001b[0;34m=\u001b[0m\u001b[0mcenter\u001b[0m\u001b[0;34m,\u001b[0m \u001b[0mmode\u001b[0m\u001b[0;34m=\u001b[0m\u001b[0;34m'symmetric'\u001b[0m\u001b[0;34m,\u001b[0m \u001b[0mpreserve_range\u001b[0m\u001b[0;34m=\u001b[0m\u001b[0;32mTrue\u001b[0m\u001b[0;34m)\u001b[0m\u001b[0;34m.\u001b[0m\u001b[0mastype\u001b[0m\u001b[0;34m(\u001b[0m\u001b[0mself\u001b[0m\u001b[0;34m.\u001b[0m\u001b[0mimg\u001b[0m\u001b[0;34m.\u001b[0m\u001b[0mdtype\u001b[0m\u001b[0;34m)\u001b[0m\u001b[0;34m\u001b[0m\u001b[0;34m\u001b[0m\u001b[0m\n\u001b[0m\u001b[1;32m     84\u001b[0m \u001b[0;34m\u001b[0m\u001b[0m\n\u001b[1;32m     85\u001b[0m     \u001b[0;32mdef\u001b[0m \u001b[0mrotated\u001b[0m\u001b[0;34m(\u001b[0m\u001b[0mself\u001b[0m\u001b[0;34m,\u001b[0m \u001b[0;34m*\u001b[0m\u001b[0margs\u001b[0m\u001b[0;34m,\u001b[0m \u001b[0;34m**\u001b[0m\u001b[0mkwargs\u001b[0m\u001b[0;34m)\u001b[0m\u001b[0;34m:\u001b[0m\u001b[0;34m\u001b[0m\u001b[0;34m\u001b[0m\u001b[0m\n",
      "\u001b[0;32m~/anaconda3/envs/gg_cnn/lib/python3.6/site-packages/skimage/transform/_warps.py\u001b[0m in \u001b[0;36mrotate\u001b[0;34m(image, angle, resize, center, order, mode, cval, clip, preserve_range)\u001b[0m\n\u001b[1;32m    402\u001b[0m \u001b[0;34m\u001b[0m\u001b[0m\n\u001b[1;32m    403\u001b[0m     return warp(image, tform, output_shape=output_shape, order=order,\n\u001b[0;32m--> 404\u001b[0;31m                 mode=mode, cval=cval, clip=clip, preserve_range=preserve_range)\n\u001b[0m\u001b[1;32m    405\u001b[0m \u001b[0;34m\u001b[0m\u001b[0m\n\u001b[1;32m    406\u001b[0m \u001b[0;34m\u001b[0m\u001b[0m\n",
      "\u001b[0;32m~/anaconda3/envs/gg_cnn/lib/python3.6/site-packages/skimage/transform/_warps.py\u001b[0m in \u001b[0;36mwarp\u001b[0;34m(image, inverse_map, map_args, output_shape, order, mode, cval, clip, preserve_range)\u001b[0m\n\u001b[1;32m    877\u001b[0m                 warped = _warp_fast[ctype](image, matrix,\n\u001b[1;32m    878\u001b[0m                                            \u001b[0moutput_shape\u001b[0m\u001b[0;34m=\u001b[0m\u001b[0moutput_shape\u001b[0m\u001b[0;34m,\u001b[0m\u001b[0;34m\u001b[0m\u001b[0;34m\u001b[0m\u001b[0m\n\u001b[0;32m--> 879\u001b[0;31m                                            order=order, mode=mode, cval=cval)\n\u001b[0m\u001b[1;32m    880\u001b[0m             \u001b[0;32melif\u001b[0m \u001b[0mimage\u001b[0m\u001b[0;34m.\u001b[0m\u001b[0mndim\u001b[0m \u001b[0;34m==\u001b[0m \u001b[0;36m3\u001b[0m\u001b[0;34m:\u001b[0m\u001b[0;34m\u001b[0m\u001b[0;34m\u001b[0m\u001b[0m\n\u001b[1;32m    881\u001b[0m                 \u001b[0mdims\u001b[0m \u001b[0;34m=\u001b[0m \u001b[0;34m[\u001b[0m\u001b[0;34m]\u001b[0m\u001b[0;34m\u001b[0m\u001b[0;34m\u001b[0m\u001b[0m\n",
      "\u001b[0;32mskimage/transform/_warps_cy.pyx\u001b[0m in \u001b[0;36mskimage.transform._warps_cy._warp_fast\u001b[0;34m()\u001b[0m\n",
      "\u001b[0;32m~/anaconda3/envs/gg_cnn/lib/python3.6/site-packages/numpy/core/_asarray.py\u001b[0m in \u001b[0;36masarray\u001b[0;34m(a, dtype, order)\u001b[0m\n\u001b[1;32m     14\u001b[0m ]\n\u001b[1;32m     15\u001b[0m \u001b[0;34m\u001b[0m\u001b[0m\n\u001b[0;32m---> 16\u001b[0;31m \u001b[0;34m@\u001b[0m\u001b[0mset_module\u001b[0m\u001b[0;34m(\u001b[0m\u001b[0;34m'numpy'\u001b[0m\u001b[0;34m)\u001b[0m\u001b[0;34m\u001b[0m\u001b[0;34m\u001b[0m\u001b[0m\n\u001b[0m\u001b[1;32m     17\u001b[0m \u001b[0;32mdef\u001b[0m \u001b[0masarray\u001b[0m\u001b[0;34m(\u001b[0m\u001b[0ma\u001b[0m\u001b[0;34m,\u001b[0m \u001b[0mdtype\u001b[0m\u001b[0;34m=\u001b[0m\u001b[0;32mNone\u001b[0m\u001b[0;34m,\u001b[0m \u001b[0morder\u001b[0m\u001b[0;34m=\u001b[0m\u001b[0;32mNone\u001b[0m\u001b[0;34m)\u001b[0m\u001b[0;34m:\u001b[0m\u001b[0;34m\u001b[0m\u001b[0;34m\u001b[0m\u001b[0m\n\u001b[1;32m     18\u001b[0m     \"\"\"Convert the input to an array.\n",
      "\u001b[0;31mKeyboardInterrupt\u001b[0m: "
     ]
    }
   ],
   "source": [
    "%matplotlib inline \n",
    "# 上面的程序整理一下\n",
    "# 首先读取图片\n",
    "idx = 800\n",
    "print(1)\n",
    "for idx in range(40000):\n",
    "    depth = train_dataset.get_mask_prob(idx)\n",
    "    mask = (train_dataset.get_mask(idx) // 50.0).astype(np.bool)\n",
    "    scale = 0.5\n",
    "    if sum(sum(mask)) / 90000 < 0.02:\n",
    "        continue\n",
    "    shape = depth.shape\n",
    "    # 看一下是横向渐变还是纵向渐变,然后给他生成背景,其实都是纵向的,之前看到的横向的是旋转过的\n",
    "    if abs(sum(depth[0] - depth [-1])) < 1:\n",
    "        print('横向渐变')\n",
    "        is_horizontal = True\n",
    "    else:\n",
    "        print('纵向渐变')\n",
    "        is_horizontal = False\n",
    "    # 消除原始背景影响\n",
    "    origin_backgroud = get_gradation_2d(depth[0][0],depth[-1][-1],300,300,is_horizontal=is_horizontal)\n",
    "    mask_depth = mask * (depth-origin_backgroud)\n",
    "    # 按照比例生成新的背景\n",
    "    backgroud = get_gradation_2d(depth[0][0] / scale,depth[-1][-1] / scale,300,300,is_horizontal=is_horizontal)\n",
    "    # 可视化看一下\n",
    "    plt.figure(figsize = (20,20))\n",
    "    plt.subplot(131)\n",
    "    plt.title('Depth')\n",
    "    plt.imshow(depth)\n",
    "    plt.subplot(132)\n",
    "    plt.title('Mask Depth')\n",
    "    plt.imshow(mask_depth)\n",
    "    plt.subplot(133)\n",
    "    plt.title('Backgroud')\n",
    "    plt.imshow(backgroud)\n",
    "    plt.show()\n",
    "\n",
    "    # 缩小图片\n",
    "    scaled_img = rescale(mask_depth,[scale,scale])\n",
    "    scaled_background = rescale(backgroud,[scale,scale])\n",
    "    # 填充图片\n",
    "    paded = np.pad(scaled_img,int((300*(1-scale))/2),pad_width)\n",
    "    paded_backgroud = np.pad(scaled_background,int((300*(1-scale))/2),pad_width)\n",
    "    # 缩放图片\n",
    "    paded_img = resize(paded, shape, preserve_range=True).astype(paded_img.dtype)\n",
    "    scaled_backgroud = resize(paded_backgroud, shape, preserve_range=True).astype(paded_backgroud.dtype)\n",
    "\n",
    "    # 添加背景\n",
    "    result = paded_img + backgroud\n",
    "    plt.figure(figsize = (20,20))\n",
    "    plt.subplot(131)\n",
    "    plt.title('Padded')\n",
    "    plt.imshow(paded)\n",
    "    plt.subplot(132)\n",
    "    plt.title('Result')\n",
    "    plt.imshow(result)\n",
    "    plt.subplot(133)\n",
    "    plt.title('Origin Depth')\n",
    "    plt.imshow(depth)\n",
    "    plt.show()\n",
    "    break"
   ]
  },
  {
   "cell_type": "code",
   "execution_count": 58,
   "id": "33263f1d",
   "metadata": {
    "scrolled": true
   },
   "outputs": [
    {
     "name": "stdout",
     "output_type": "stream",
     "text": [
      "Using matplotlib backend: Qt5Agg\n"
     ]
    }
   ],
   "source": [
    "%matplotlib auto\n",
    "plt.imshow(depth)\n",
    "plt.show()"
   ]
  },
  {
   "cell_type": "code",
   "execution_count": 61,
   "id": "728dd73d",
   "metadata": {},
   "outputs": [
    {
     "data": {
      "text/plain": [
       "<matplotlib.image.AxesImage at 0x7fe5c4edbac8>"
      ]
     },
     "execution_count": 61,
     "metadata": {},
     "output_type": "execute_result"
    }
   ],
   "source": [
    "scaled_img = rescale(depth,[0.5,0.5],multichannel=1)\n",
    "plt.imshow(scaled_img)"
   ]
  },
  {
   "cell_type": "code",
   "execution_count": 62,
   "id": "ffb3ef6a",
   "metadata": {},
   "outputs": [],
   "source": [
    "paded = np.pad(scaled_img,int((300*(1-scale))/2),pad_width)"
   ]
  },
  {
   "cell_type": "code",
   "execution_count": 68,
   "id": "1eacb074",
   "metadata": {},
   "outputs": [
    {
     "ename": "ValueError",
     "evalue": "operands could not be broadcast together with shapes (1024,1024,3) (300,300,1) ",
     "output_type": "error",
     "traceback": [
      "\u001b[0;31m---------------------------------------------------------------------------\u001b[0m",
      "\u001b[0;31mValueError\u001b[0m                                Traceback (most recent call last)",
      "\u001b[0;32m<ipython-input-68-5fec9b728459>\u001b[0m in \u001b[0;36m<module>\u001b[0;34m\u001b[0m\n\u001b[0;32m----> 1\u001b[0;31m \u001b[0mbackgroud\u001b[0m \u001b[0;34m=\u001b[0m \u001b[0mimread\u001b[0m\u001b[0;34m(\u001b[0m\u001b[0;34m'R-C.jpeg'\u001b[0m\u001b[0;34m)\u001b[0m \u001b[0;34m*\u001b[0m \u001b[0mmask\u001b[0m\u001b[0;34m.\u001b[0m\u001b[0mreshape\u001b[0m\u001b[0;34m(\u001b[0m\u001b[0;36m300\u001b[0m\u001b[0;34m,\u001b[0m\u001b[0;36m300\u001b[0m\u001b[0;34m,\u001b[0m\u001b[0;36m1\u001b[0m\u001b[0;34m)\u001b[0m\u001b[0;34m\u001b[0m\u001b[0;34m\u001b[0m\u001b[0m\n\u001b[0m\u001b[1;32m      2\u001b[0m \u001b[0mplt\u001b[0m\u001b[0;34m.\u001b[0m\u001b[0mimshow\u001b[0m\u001b[0;34m(\u001b[0m\u001b[0mbackgroud\u001b[0m\u001b[0;34m)\u001b[0m\u001b[0;34m\u001b[0m\u001b[0;34m\u001b[0m\u001b[0m\n",
      "\u001b[0;31mValueError\u001b[0m: operands could not be broadcast together with shapes (1024,1024,3) (300,300,1) "
     ]
    }
   ],
   "source": [
    "backgroud = imread('R-C.jpeg') * mask.reshape(300,300,1)\n",
    "plt.imshow(backgroud)"
   ]
  },
  {
   "cell_type": "markdown",
   "id": "afc5d7e8",
   "metadata": {},
   "source": [
    "## 抓取缩小\n",
    "深度图缩小搞定了,下面是抓取缩小,让标注跟它保持一致\n",
    "\n",
    "感觉最多**缩小两倍**就行了,不能太多\n",
    "\n",
    "抓取这里面用到的是zoom这个函数,现在看来好像是不用变的,直接就能用"
   ]
  }
 ],
 "metadata": {
  "kernelspec": {
   "display_name": "Python 3",
   "language": "python",
   "name": "python3"
  },
  "language_info": {
   "codemirror_mode": {
    "name": "ipython",
    "version": 3
   },
   "file_extension": ".py",
   "mimetype": "text/x-python",
   "name": "python",
   "nbconvert_exporter": "python",
   "pygments_lexer": "ipython3",
   "version": "3.6.12"
  },
  "toc": {
   "base_numbering": 1,
   "nav_menu": {},
   "number_sections": true,
   "sideBar": true,
   "skip_h1_title": true,
   "title_cell": "Table of Contents",
   "title_sidebar": "Contents",
   "toc_cell": false,
   "toc_position": {
    "height": "calc(100% - 180px)",
    "left": "10px",
    "top": "150px",
    "width": "384px"
   },
   "toc_section_display": true,
   "toc_window_display": true
  }
 },
 "nbformat": 4,
 "nbformat_minor": 5
}
